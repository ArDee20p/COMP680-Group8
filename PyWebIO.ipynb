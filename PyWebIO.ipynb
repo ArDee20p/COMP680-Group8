{
 "cells": [
  {
   "cell_type": "code",
   "execution_count": 2,
   "outputs": [],
   "source": [
    "from pywebio.input import *\n",
    "from pywebio.output import *"
   ],
   "metadata": {
    "collapsed": false,
    "pycharm": {
     "name": "#%%\n"
    }
   }
  },
  {
   "cell_type": "code",
   "execution_count": null,
   "outputs": [],
   "source": [
    "#demonstration of input group\n",
    "userinfo = input_group(\"User info\",[\n",
    "    input('Email', name='useremail', type=TEXT),\n",
    "    input('Username', name='username', type=TEXT),\n",
    "    input('Password', name='password', type=PASSWORD)\n",
    "])\n",
    "print(userinfo['useremail'], userinfo['username'], userinfo['password'])"
   ],
   "metadata": {
    "collapsed": false,
    "pycharm": {
     "name": "#%%\n"
    }
   }
  },
  {
   "cell_type": "code",
   "execution_count": null,
   "outputs": [],
   "source": [
    "#demonstration of possible input types\n",
    "#Password input\n",
    "password = input(\"Input password\", type=PASSWORD)\n",
    "\n",
    "#Dropdown selection\n",
    "gift = select('Coke or Pepsi?', ['Coke', 'Pepsi'])\n",
    "\n",
    "#Checkbox\n",
    "agree = checkbox(\"User Terms\", options = ['I agree to the terms and conditions.'])\n",
    "\n",
    "#Single choice\n",
    "answer = radio(\"Choose one\", options=['A', 'B', 'C', 'D'])\n",
    "\n",
    "#Textbox input\n",
    "text = textarea('Text Area', rows=3, placeholder='Enter your message')\n",
    "\n",
    "#File Upload\n",
    "img = file_upload(\"Upload Image\", accept=\"image/*\")\n",
    "\n",
    "put_text(answer)"
   ],
   "metadata": {
    "collapsed": false,
    "pycharm": {
     "name": "#%%\n"
    }
   }
  }
 ],
 "metadata": {
  "kernelspec": {
   "display_name": "Python 3",
   "language": "python",
   "name": "python3"
  },
  "language_info": {
   "codemirror_mode": {
    "name": "ipython",
    "version": 2
   },
   "file_extension": ".py",
   "mimetype": "text/x-python",
   "name": "python",
   "nbconvert_exporter": "python",
   "pygments_lexer": "ipython2",
   "version": "2.7.6"
  }
 },
 "nbformat": 4,
 "nbformat_minor": 0
}